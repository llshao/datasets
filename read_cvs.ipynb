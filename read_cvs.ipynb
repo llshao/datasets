{
 "cells": [
  {
   "cell_type": "code",
   "execution_count": 1,
   "metadata": {},
   "outputs": [],
   "source": [
    "import pandas as pd"
   ]
  },
  {
   "cell_type": "code",
   "execution_count": 13,
   "metadata": {},
   "outputs": [],
   "source": [
    "weathers = []\n",
    "for i in range(13):\n",
    "    weather = pd.read_excel('weather_data_nyc_centralpark_2015.xlsx',sheet_name=i,header=None)\n",
    "    weathers.append(weather)"
   ]
  },
  {
   "cell_type": "code",
   "execution_count": 14,
   "metadata": {},
   "outputs": [],
   "source": [
    "weathers = pd.concat(weathers,axis=0)"
   ]
  },
  {
   "cell_type": "code",
   "execution_count": 27,
   "metadata": {},
   "outputs": [],
   "source": [
    "weathers_2015 = weathers.rename({0:'date',1:'maximum_temperature',2:'min_temperature',\\\n",
    "                 3:'average_temperature',4:'temprature_departure',5:'HDD',\\\n",
    "                 6:'CDD',7:'Precipitation',8:'new_snow',\n",
    "                9:'snow_depth'}, axis=1)"
   ]
  },
  {
   "cell_type": "code",
   "execution_count": 30,
   "metadata": {},
   "outputs": [],
   "source": [
    "weathers_2015 = weathers_2015.replace('T',0.01)"
   ]
  },
  {
   "cell_type": "code",
   "execution_count": 34,
   "metadata": {},
   "outputs": [],
   "source": [
    "weathers_2015[['Precipitation','new_snow','snow_depth']] = weathers_2015[['Precipitation','new_snow','snow_depth']].apply(pd.to_numeric)"
   ]
  },
  {
   "cell_type": "code",
   "execution_count": 35,
   "metadata": {},
   "outputs": [
    {
     "name": "stdout",
     "output_type": "stream",
     "text": [
      "<class 'pandas.core.frame.DataFrame'>\n",
      "Int64Index: 396 entries, 0 to 30\n",
      "Data columns (total 10 columns):\n",
      " #   Column                Non-Null Count  Dtype         \n",
      "---  ------                --------------  -----         \n",
      " 0   date                  396 non-null    datetime64[ns]\n",
      " 1   maximum_temperature   396 non-null    int64         \n",
      " 2   min_temperature       396 non-null    int64         \n",
      " 3   average_temperature   396 non-null    float64       \n",
      " 4   temprature_departure  396 non-null    float64       \n",
      " 5   HDD                   396 non-null    int64         \n",
      " 6   CDD                   396 non-null    int64         \n",
      " 7   Precipitation         396 non-null    float64       \n",
      " 8   new_snow              396 non-null    float64       \n",
      " 9   snow_depth            396 non-null    float64       \n",
      "dtypes: datetime64[ns](1), float64(5), int64(4)\n",
      "memory usage: 34.0 KB\n"
     ]
    }
   ],
   "source": [
    "weathers_2015.info()"
   ]
  },
  {
   "cell_type": "code",
   "execution_count": 36,
   "metadata": {},
   "outputs": [
    {
     "data": {
      "text/html": [
       "<div>\n",
       "<style scoped>\n",
       "    .dataframe tbody tr th:only-of-type {\n",
       "        vertical-align: middle;\n",
       "    }\n",
       "\n",
       "    .dataframe tbody tr th {\n",
       "        vertical-align: top;\n",
       "    }\n",
       "\n",
       "    .dataframe thead th {\n",
       "        text-align: right;\n",
       "    }\n",
       "</style>\n",
       "<table border=\"1\" class=\"dataframe\">\n",
       "  <thead>\n",
       "    <tr style=\"text-align: right;\">\n",
       "      <th></th>\n",
       "      <th>date</th>\n",
       "      <th>maximum_temperature</th>\n",
       "      <th>min_temperature</th>\n",
       "      <th>average_temperature</th>\n",
       "      <th>temprature_departure</th>\n",
       "      <th>HDD</th>\n",
       "      <th>CDD</th>\n",
       "      <th>Precipitation</th>\n",
       "      <th>new_snow</th>\n",
       "      <th>snow_depth</th>\n",
       "    </tr>\n",
       "  </thead>\n",
       "  <tbody>\n",
       "    <tr>\n",
       "      <th>0</th>\n",
       "      <td>2015-01-01</td>\n",
       "      <td>40</td>\n",
       "      <td>26</td>\n",
       "      <td>33.0</td>\n",
       "      <td>2.0</td>\n",
       "      <td>32</td>\n",
       "      <td>0</td>\n",
       "      <td>0.00</td>\n",
       "      <td>0.0</td>\n",
       "      <td>0.0</td>\n",
       "    </tr>\n",
       "    <tr>\n",
       "      <th>1</th>\n",
       "      <td>2015-01-02</td>\n",
       "      <td>44</td>\n",
       "      <td>31</td>\n",
       "      <td>37.5</td>\n",
       "      <td>6.6</td>\n",
       "      <td>27</td>\n",
       "      <td>0</td>\n",
       "      <td>0.00</td>\n",
       "      <td>0.0</td>\n",
       "      <td>0.0</td>\n",
       "    </tr>\n",
       "    <tr>\n",
       "      <th>2</th>\n",
       "      <td>2015-01-03</td>\n",
       "      <td>43</td>\n",
       "      <td>28</td>\n",
       "      <td>35.5</td>\n",
       "      <td>4.8</td>\n",
       "      <td>29</td>\n",
       "      <td>0</td>\n",
       "      <td>0.51</td>\n",
       "      <td>1.1</td>\n",
       "      <td>0.0</td>\n",
       "    </tr>\n",
       "    <tr>\n",
       "      <th>3</th>\n",
       "      <td>2015-01-04</td>\n",
       "      <td>54</td>\n",
       "      <td>36</td>\n",
       "      <td>45.0</td>\n",
       "      <td>14.4</td>\n",
       "      <td>20</td>\n",
       "      <td>0</td>\n",
       "      <td>0.43</td>\n",
       "      <td>0.0</td>\n",
       "      <td>0.0</td>\n",
       "    </tr>\n",
       "    <tr>\n",
       "      <th>4</th>\n",
       "      <td>2015-01-05</td>\n",
       "      <td>51</td>\n",
       "      <td>19</td>\n",
       "      <td>35.0</td>\n",
       "      <td>4.6</td>\n",
       "      <td>30</td>\n",
       "      <td>0</td>\n",
       "      <td>0.00</td>\n",
       "      <td>0.0</td>\n",
       "      <td>0.0</td>\n",
       "    </tr>\n",
       "  </tbody>\n",
       "</table>\n",
       "</div>"
      ],
      "text/plain": [
       "        date  maximum_temperature  min_temperature  average_temperature  \\\n",
       "0 2015-01-01                   40               26                 33.0   \n",
       "1 2015-01-02                   44               31                 37.5   \n",
       "2 2015-01-03                   43               28                 35.5   \n",
       "3 2015-01-04                   54               36                 45.0   \n",
       "4 2015-01-05                   51               19                 35.0   \n",
       "\n",
       "   temprature_departure  HDD  CDD  Precipitation  new_snow  snow_depth  \n",
       "0                   2.0   32    0           0.00       0.0         0.0  \n",
       "1                   6.6   27    0           0.00       0.0         0.0  \n",
       "2                   4.8   29    0           0.51       1.1         0.0  \n",
       "3                  14.4   20    0           0.43       0.0         0.0  \n",
       "4                   4.6   30    0           0.00       0.0         0.0  "
      ]
     },
     "execution_count": 36,
     "metadata": {},
     "output_type": "execute_result"
    }
   ],
   "source": [
    "weathers_2015.head()"
   ]
  }
 ],
 "metadata": {
  "kernelspec": {
   "display_name": "Python 3",
   "language": "python",
   "name": "python3"
  },
  "language_info": {
   "codemirror_mode": {
    "name": "ipython",
    "version": 3
   },
   "file_extension": ".py",
   "mimetype": "text/x-python",
   "name": "python",
   "nbconvert_exporter": "python",
   "pygments_lexer": "ipython3",
   "version": "3.7.4"
  }
 },
 "nbformat": 4,
 "nbformat_minor": 4
}
